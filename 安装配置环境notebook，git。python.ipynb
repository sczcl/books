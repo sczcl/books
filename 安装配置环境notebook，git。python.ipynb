{
 "cells": [
  {
   "cell_type": "markdown",
   "metadata": {},
   "source": [
    "#### 下载python  直接下载然后安装，git下载  \n",
    "1. 安装jupyter：  \n",
    "**pip install jupyter**  \n",
    "-- 如果报错：Config variable 'Py_DEBUG' is unset, Python ABI tag may be incorrect  \n",
    "2. 则安装wheel，使用语句：  \n",
    "*** pip install --upgrade wheel setuptools ***\n",
    "3. 安装后配置notebook\n",
    "jupyter notebook --generate-config  \n",
    "4. 然后找到c：user：jupyter里面配置文件，修改  \n",
    "c.NotebookApp.notebook_dir = 'D:/study/notes/notebook'为自己的目录，然后就能启动jupyter notebook\n",
    "5. 配置git账户信息\n",
    "```\n",
    "git config --global user.name \"sczcl\"\n",
    "git config --global user.email sczhuchunlin@163.com\n",
    "```\n",
    "6. 配置 ssh\n",
    "```\n",
    "本地打开cmd输入\n",
    "ssh-keygen -t rsa -C \"sczhuchunlin@163.com\"\n",
    "打开目录的\n",
    "用户/.ssh/id_rsa.pub这个文件夹，然后复制内容到网页git里面，添加ssh\n",
    "```"
   ]
  }
 ],
 "metadata": {
  "kernelspec": {
   "display_name": "Python 3",
   "language": "python",
   "name": "python3"
  },
  "language_info": {
   "codemirror_mode": {
    "name": "ipython",
    "version": 3
   },
   "file_extension": ".py",
   "mimetype": "text/x-python",
   "name": "python",
   "nbconvert_exporter": "python",
   "pygments_lexer": "ipython3",
   "version": "3.7.1"
  }
 },
 "nbformat": 4,
 "nbformat_minor": 2
}
